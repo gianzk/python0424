{
 "cells": [
  {
   "cell_type": "markdown",
   "metadata": {},
   "source": [
    "# Estructuras de Control Iterativas"
   ]
  },
  {
   "cell_type": "markdown",
   "metadata": {},
   "source": [
    "A diferencia de las estructuras de control condicionales, las iterativas (también llamadas cíclicas o bucles), nos permiten ejecutar un mismo código, de manera repetida, mientras se cumpla una condición. En Python se dispone de dos estructuras cíclicas: \n",
    "- El bucle while \n",
    "- El bucle for \n",
    "\n",
    "Las veremos en detalle a continuación. "
   ]
  },
  {
   "cell_type": "markdown",
   "metadata": {
    "tags": []
   },
   "source": [
    "## Bucle While\n",
    "------------------------------"
   ]
  },
  {
   "cell_type": "markdown",
   "metadata": {},
   "source": [
    "Se basa en <b>repetir un bloque a partir de evaluar una condición lógica, siempre que ésta sea True</b>. Queda en las manos del programador decidir el momento en que la condición cambie a False para hacer que el While finalice."
   ]
  },
  {
   "cell_type": "markdown",
   "metadata": {},
   "source": [
    "```python\n",
    "while <expr>:\n",
    "    <statement(s)>"
   ]
  },
  {
   "cell_type": "markdown",
   "metadata": {},
   "source": [
    "### Ejemplo\n",
    "\n",
    "Mientras que año sea menor o igual a 2012, imprimir la frase “Informes del Año año”\n"
   ]
  },
  {
   "cell_type": "code",
   "execution_count": 3,
   "metadata": {},
   "outputs": [],
   "source": [
    "while False:\n",
    "    print(\"bucle infinito\")\n",
    "    "
   ]
  },
  {
   "cell_type": "code",
   "execution_count": 4,
   "metadata": {},
   "outputs": [
    {
     "name": "stdout",
     "output_type": "stream",
     "text": [
      "Informes del Año 2001\n",
      "Informes del Año 2002\n",
      "Informes del Año 2003\n",
      "Informes del Año 2004\n",
      "Informes del Año 2005\n",
      "Informes del Año 2006\n",
      "No imprimo el informe para este año 2007\n",
      "Informes del Año 2008\n",
      "Informes del Año 2009\n",
      "Finalizo el bucle\n"
     ]
    }
   ],
   "source": [
    "# Si el año es 2010, finalizar el bucle\n",
    "# Si el año es 2007 no imprimir ese informe\n",
    "anio = 2001\n",
    "while anio <= 2012:\n",
    "    \n",
    "    if anio == 2010:\n",
    "        print('Finalizo el bucle')\n",
    "        break\n",
    "        \n",
    "    if anio == 2007:\n",
    "        print(f'No imprimo el informe para este año {anio}')\n",
    "        anio +=1\n",
    "        continue\n",
    "    \n",
    "    print(\"Informes del Año {}\".format(anio)) \n",
    "    anio += 1 # aumentamos contador"
   ]
  },
  {
   "cell_type": "markdown",
   "metadata": {},
   "source": [
    "Si miras la última línea:\n",
    "\n",
    "<code>anio += 1</code>\n",
    "\n",
    "Podrás notar que en cada iteración, incrementamos el valor de la variable que condiciona el bucle (anio). Si no lo hiciéramos, esta variable siempre sería igual a 2001 y el bucle se ejecutaría de forma infinita, ya que la condición (anio <= 2012) siempre se estaría cumpliendo. "
   ]
  },
  {
   "cell_type": "markdown",
   "metadata": {},
   "source": [
    "### - Instruccion <b>break</b>"
   ]
  },
  {
   "cell_type": "markdown",
   "metadata": {},
   "source": [
    "La declaración de <code>break</code> finaliza inmediatamente un bucle por completo. \n",
    "\n",
    "\n",
    "La ejecución del programa procede a la primera instrucción que sigue al cuerpo del ciclo."
   ]
  },
  {
   "cell_type": "code",
   "execution_count": 1,
   "metadata": {},
   "outputs": [
    {
     "name": "stdout",
     "output_type": "stream",
     "text": [
      "c vale  0\n",
      "c vale  1\n",
      "c vale  2\n",
      "c vale  3\n",
      "c vale  4\n",
      "Rompemos el bucle cuando c vale  4\n"
     ]
    }
   ],
   "source": [
    "c = 0\n",
    "while c <= 5:\n",
    "    print(\"c vale \",c)\n",
    "    if c == 4:\n",
    "        print(\"Rompemos el bucle cuando c vale \", c)\n",
    "        break\n",
    "    c+=1\n",
    "    "
   ]
  },
  {
   "cell_type": "markdown",
   "metadata": {},
   "source": [
    "### - Instruccion <b>continue</b>"
   ]
  },
  {
   "cell_type": "markdown",
   "metadata": {},
   "source": [
    "La declaración <code>continue</code> finaliza inmediatamente la iteración del bucle actual. \n",
    "\n",
    "La ejecución salta a la parte superior del bucle y la expresión de control se vuelve a evaluar para determinar si el bucle se ejecutará de nuevo o terminará.\n"
   ]
  },
  {
   "cell_type": "code",
   "execution_count": 2,
   "metadata": {},
   "outputs": [
    {
     "name": "stdout",
     "output_type": "stream",
     "text": [
      "c vale 1\n",
      "c vale 2\n",
      "Continuamos con la siguiente iteración 3\n",
      "Continuamos con la siguiente iteración 4\n",
      "c vale 5\n",
      "c vale 6\n"
     ]
    }
   ],
   "source": [
    "c = 0\n",
    "while c <= 5:\n",
    "    c+=1\n",
    "    if c==3 or c==4:\n",
    "        print(\"Continuamos con la siguiente iteración\", c)\n",
    "        continue\n",
    "    print(\"c vale\",c)"
   ]
  },
  {
   "cell_type": "markdown",
   "metadata": {},
   "source": [
    "Podemos tomar la siguiente imagen como referencia para saber como actua las instrucciones break y continue\n",
    "\n",
    "<img src='https://files.realpython.com/media/t.899f357dd948.png' width=300 >"
   ]
  },
  {
   "cell_type": "markdown",
   "metadata": {},
   "source": [
    "### Ejemplo Menú Interactivo"
   ]
  },
  {
   "cell_type": "code",
   "execution_count": 3,
   "metadata": {},
   "outputs": [
    {
     "name": "stdout",
     "output_type": "stream",
     "text": [
      "Bienvenido al menú interactivo\n",
      "¿Qué quieres hacer? Escribe una opción\n",
      "    1) Saludar\n",
      "    2) Sumar dos números\n",
      "    3) Salir\n",
      "Hola, espero que te lo estés pasando bien\n",
      "¿Qué quieres hacer? Escribe una opción\n",
      "    1) Saludar\n",
      "    2) Sumar dos números\n",
      "    3) Salir\n",
      "El resultado de la suma es: 17.0\n",
      "¿Qué quieres hacer? Escribe una opción\n",
      "    1) Saludar\n",
      "    2) Sumar dos números\n",
      "    3) Salir\n",
      "¡Hasta luego! Ha sido un placer ayudarte\n"
     ]
    }
   ],
   "source": [
    "print(\"Bienvenido al menú interactivo\")\n",
    "while True:\n",
    "    print(\"\"\"¿Qué quieres hacer? Escribe una opción\n",
    "    1) Saludar\n",
    "    2) Sumar dos números\n",
    "    3) Salir\"\"\")\n",
    "    \n",
    "    opcion = input() # me devuelve un string ''\n",
    "    if opcion == '1':\n",
    "        print(\"Hola, espero que te lo estés pasando bien\")\n",
    "    elif opcion == '2':\n",
    "        n1 = float(input(\"Introduce el primer número: \"))\n",
    "        n2 = float(input(\"Introduce el segundo número: \"))\n",
    "        print(f\"El resultado de la suma es: {n1+n2}\")\n",
    "    elif opcion =='3':\n",
    "        print(\"¡Hasta luego! Ha sido un placer ayudarte\")\n",
    "        break\n",
    "    else:\n",
    "        print(\"Comando desconocido, vuelve a intentarlo\")"
   ]
  },
  {
   "cell_type": "code",
   "execution_count": null,
   "metadata": {},
   "outputs": [],
   "source": []
  },
  {
   "cell_type": "markdown",
   "metadata": {},
   "source": [
    "### EJERCICIOS"
   ]
  },
  {
   "cell_type": "markdown",
   "metadata": {},
   "source": [
    "Realiza un programa que lea dos números por teclado y permita elegir entre 3 opciones en un menú:\n",
    "\n",
    "- Mostrar una suma de los dos números\n",
    "- Mostrar una resta de los dos números (el primero menos el segundo)\n",
    "- Mostrar una multiplicación de los dos números\n",
    "\n",
    "En caso de introducir una opción inválida, el programa informará de que no es correcta"
   ]
  },
  {
   "cell_type": "code",
   "execution_count": null,
   "metadata": {},
   "outputs": [],
   "source": [
    "\n",
    "\n",
    "OPCIONES_MENU = \"\"\"\n",
    "¿Qué quieres hacer? Escribe una opción\n",
    "  1) Sumar\n",
    "  2) Restar\n",
    "  3) Multiplicar\n",
    "  4) Salir\n",
    "\"\"\"\n",
    "\n",
    "print(\"Bienvenido al menú interactivo\")\n",
    "while True:\n",
    "    opcion = input(OPCIONES_MENU).lstrip()\n",
    "\n",
    "    if opcion == '1':\n",
    "        n1 = float(input(\"Introduce el primer número: \"))\n",
    "        n2 = float(input(\"Introduce el segundo número: \"))\n",
    "\n",
    "        suma = n1 + n2\n",
    "        suma = round(suma, 0) # redondeando numero\n",
    "\n",
    "        print(f\"El resultado de la suma es: {suma}\")\n",
    "    elif opcion == '2':\n",
    "        n1 = int(input(\"Introduce el primer número: \")) # int para tomar valor como entero\n",
    "        n2 = int(input(\"Introduce el segundo número: \"))\n",
    "        print(f\"El resultado de la resta es: {n1-n2}\")\n",
    "    elif opcion == '3':\n",
    "        n1 = float(input(\"Introduce el primer número: \"))\n",
    "        n2 = float(input(\"Introduce el segundo número: \"))\n",
    "\n",
    "        multiplicacion = n1 * n2\n",
    "\n",
    "        print(f\"El resultado de la multiplicacion es: {multiplicacion:.4f}\")   # format string con redondeo a 4 decimales  \n",
    "    elif opcion =='4':\n",
    "        print(\"¡Hasta luego! Ha sido un placer ayudarte\")\n",
    "        break\n",
    "    else:\n",
    "        print(\"Comando desconocido, vuelve a intentarlo\")\n",
    "\n"
   ]
  },
  {
   "cell_type": "markdown",
   "metadata": {
    "tags": []
   },
   "source": [
    "## Bucle For\n",
    "----------------------------------------------"
   ]
  },
  {
   "cell_type": "markdown",
   "metadata": {},
   "source": [
    "El bucle <code>for</code>, en Python, es aquel que nos permitirá iterar una colección de datos (listas, tuplas, dicx, etc):"
   ]
  },
  {
   "cell_type": "markdown",
   "metadata": {},
   "source": [
    "```python\n",
    "for <var> in <iterable>:\n",
    "    <statement(s)>"
   ]
  },
  {
   "cell_type": "code",
   "execution_count": 8,
   "metadata": {},
   "outputs": [
    {
     "name": "stdout",
     "output_type": "stream",
     "text": [
      "Juan\n",
      "Antonio\n",
      "Pedro\n",
      "Herminio\n"
     ]
    }
   ],
   "source": [
    "# Iterando sobre listas\n",
    "lista_nombres = ['Juan', 'Antonio', 'Pedro', 'Herminio']\n",
    "\n",
    "for nombre in lista_nombres:\n",
    "    print(nombre)"
   ]
  },
  {
   "cell_type": "code",
   "execution_count": 9,
   "metadata": {},
   "outputs": [
    {
     "name": "stdout",
     "output_type": "stream",
     "text": [
      "0 Juan\n",
      "1 Antonio\n",
      "2 Pedro\n",
      "3 Herminio\n"
     ]
    }
   ],
   "source": [
    "# enumerate -> brinda el indice y el valor del iterable\n",
    "for i,nombre in enumerate(lista_nombres):\n",
    "    print(i, nombre)"
   ]
  },
  {
   "cell_type": "code",
   "execution_count": 10,
   "metadata": {},
   "outputs": [
    {
     "name": "stdout",
     "output_type": "stream",
     "text": [
      "['Maria', 'Antonio', 'Pedro', 'Herminio', 'Maria']\n"
     ]
    }
   ],
   "source": [
    "# Modificando valores sobre listas\n",
    "mi_lista = ['Juan', 'Antonio', 'Pedro', 'Herminio','Juan']\n",
    "\n",
    "for indice,nombre in enumerate(mi_lista):\n",
    "    # print(indice, nombre)\n",
    "    if nombre == 'Juan':\n",
    "        mi_lista[indice] = 'Maria'\n",
    "\n",
    "print(mi_lista)"
   ]
  },
  {
   "cell_type": "code",
   "execution_count": 11,
   "metadata": {},
   "outputs": [
    {
     "data": {
      "text/plain": [
       "['Maria', 'Antonio', 'Pedro', 'Herminio', 'Maria']"
      ]
     },
     "execution_count": 11,
     "metadata": {},
     "output_type": "execute_result"
    }
   ],
   "source": [
    "# valor cambiado\n",
    "mi_lista"
   ]
  },
  {
   "cell_type": "code",
   "execution_count": 12,
   "metadata": {},
   "outputs": [
    {
     "name": "stdout",
     "output_type": "stream",
     "text": [
      "k = foo , v = 1\n",
      "k = bar , v = 2\n",
      "k = baz , v = 3\n"
     ]
    }
   ],
   "source": [
    "# iterando sobre diccionarios\n",
    "d = {'foo': 1, 'bar': 2, 'baz': 3}\n",
    "for k, v in d.items():\n",
    "    print('k =', k, ', v =', v)"
   ]
  },
  {
   "cell_type": "code",
   "execution_count": 13,
   "metadata": {},
   "outputs": [
    {
     "name": "stdout",
     "output_type": "stream",
     "text": [
      "0 H\n",
      "1 o\n",
      "2 l\n",
      "3 a\n",
      "4  \n",
      "5 M\n",
      "6 u\n",
      "7 n\n",
      "8 d\n",
      "9 o\n"
     ]
    }
   ],
   "source": [
    "# Iterando sobre strings\n",
    "texto = 'Hola Mundo'\n",
    "\n",
    "for i, letra in enumerate(texto):\n",
    "    print(i, letra)"
   ]
  },
  {
   "cell_type": "code",
   "execution_count": 15,
   "metadata": {},
   "outputs": [
    {
     "ename": "TypeError",
     "evalue": "'str' object does not support item assignment",
     "output_type": "error",
     "traceback": [
      "\u001b[1;31m---------------------------------------------------------------------------\u001b[0m",
      "\u001b[1;31mTypeError\u001b[0m                                 Traceback (most recent call last)",
      "Cell \u001b[1;32mIn[15], line 1\u001b[0m\n\u001b[1;32m----> 1\u001b[0m texto[\u001b[38;5;241m1\u001b[39m] \u001b[38;5;241m=\u001b[39m \u001b[38;5;124m'\u001b[39m\u001b[38;5;124mx\u001b[39m\u001b[38;5;124m'\u001b[39m\n",
      "\u001b[1;31mTypeError\u001b[0m: 'str' object does not support item assignment"
     ]
    }
   ],
   "source": [
    "texto[1] = 'x'"
   ]
  },
  {
   "cell_type": "code",
   "execution_count": 16,
   "metadata": {},
   "outputs": [
    {
     "name": "stdout",
     "output_type": "stream",
     "text": [
      "H\n",
      "l\n",
      "a\n",
      " \n",
      "M\n",
      "u\n",
      "n\n",
      "d\n"
     ]
    },
    {
     "data": {
      "text/plain": [
       "'Hxla Mundx'"
      ]
     },
     "execution_count": 16,
     "metadata": {},
     "output_type": "execute_result"
    }
   ],
   "source": [
    "texto = 'Hola Mundo'\n",
    "texto_s = ''\n",
    "for letra in texto:\n",
    "    if letra == 'o':\n",
    "        texto_s += 'x'\n",
    "        continue\n",
    "    texto_s += letra\n",
    "    print(letra)\n",
    "texto_s"
   ]
  },
  {
   "cell_type": "code",
   "execution_count": 17,
   "metadata": {},
   "outputs": [
    {
     "name": "stdout",
     "output_type": "stream",
     "text": [
      "H\n",
      "Ho\n",
      "Hol\n",
      "Hola\n",
      "Hola \n",
      "Hola M\n",
      "Hola Mu\n",
      "Hola Mun\n",
      "Hola Mund\n",
      "Hola Mundo\n"
     ]
    },
    {
     "data": {
      "text/plain": [
       "'Hola Mundo'"
      ]
     },
     "execution_count": 17,
     "metadata": {},
     "output_type": "execute_result"
    }
   ],
   "source": [
    "texto_s = ''\n",
    "for l in texto:\n",
    "    texto_s += l\n",
    "    print(texto_s)\n",
    "texto_s"
   ]
  },
  {
   "cell_type": "markdown",
   "metadata": {},
   "source": [
    "### Funcion Range"
   ]
  },
  {
   "cell_type": "markdown",
   "metadata": {},
   "source": [
    "Sirve para generar una lista de números que podemos recorrer fácilmente, pero no ocupa memoria porque se interpreta sobre la marcha:\n",
    "\n"
   ]
  },
  {
   "cell_type": "markdown",
   "metadata": {},
   "source": [
    "<img src='data:image/png;base64,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'>"
   ]
  },
  {
   "cell_type": "code",
   "execution_count": 19,
   "metadata": {},
   "outputs": [
    {
     "data": {
      "text/plain": [
       "[0, 1, 2, 3, 4, 5, 6, 7, 8, 9]"
      ]
     },
     "execution_count": 19,
     "metadata": {},
     "output_type": "execute_result"
    }
   ],
   "source": [
    "# range -> no es un lista\n",
    "# si quiero convetir el range a una lista debo  hacer\n",
    "[*range(10)]"
   ]
  },
  {
   "cell_type": "code",
   "execution_count": 20,
   "metadata": {},
   "outputs": [
    {
     "name": "stdout",
     "output_type": "stream",
     "text": [
      "Informes del Año 2001\n",
      "Informes del Año 2002\n",
      "Informes del Año 2003\n",
      "Informes del Año 2004\n",
      "Informes del Año 2005\n",
      "Informes del Año 2006\n",
      "Informes del Año 2007\n",
      "Informes del Año 2008\n",
      "Informes del Año 2009\n",
      "Informes del Año 2010\n",
      "Informes del Año 2011\n",
      "Informes del Año 2012\n"
     ]
    }
   ],
   "source": [
    "# Generarndo un rango de valores del 2001 al 2012\n",
    "for anio in range(2001, 2013):\n",
    "    print(f\"Informes del Año {anio}\")"
   ]
  },
  {
   "cell_type": "code",
   "execution_count": 25,
   "metadata": {},
   "outputs": [
    {
     "name": "stdout",
     "output_type": "stream",
     "text": [
      "#1\n",
      "#2\n",
      "#3\n",
      "#4\n",
      "#5\n",
      "#6\n",
      "#7\n",
      "#8\n",
      "#9\n",
      "#10\n"
     ]
    }
   ],
   "source": [
    "# por defecto el inicio de la funcion es 0\n",
    "for i in range(10):\n",
    "    print(f'#{i+1}')"
   ]
  },
  {
   "cell_type": "markdown",
   "metadata": {},
   "source": [
    "# Links Referencia\n",
    "----------------------\n",
    "\n",
    "- [Bucle While](https://realpython.com/python-while-loop/#the-python-break-and-continue-statements)\n",
    "- [Bucle For](https://realpython.com/python-for-loop/)\n"
   ]
  },
  {
   "cell_type": "markdown",
   "metadata": {},
   "source": []
  },
  {
   "cell_type": "markdown",
   "metadata": {},
   "source": [
    "## EJERCICIOS\n",
    "-----------------------------"
   ]
  },
  {
   "cell_type": "markdown",
   "metadata": {},
   "source": [
    "1. Realiza un programa que pida al usuario cuantos números quiere introducir. Luego lee todos los números y realiza una media aritmética.\n",
    "#### Nota\n",
    "Usar listas\n",
    "\n"
   ]
  },
  {
   "cell_type": "code",
   "execution_count": 1,
   "metadata": {},
   "outputs": [
    {
     "name": "stdout",
     "output_type": "stream",
     "text": [
      "Cuantos números va a introducir ?  4\n"
     ]
    }
   ],
   "source": [
    "# 1. Solicitar la cantidad de números a introducir\n",
    "cantidad = int(input('Cuantos números va a introducir ? '))\n"
   ]
  },
  {
   "cell_type": "code",
   "execution_count": 3,
   "metadata": {},
   "outputs": [
    {
     "name": "stdout",
     "output_type": "stream",
     "text": [
      "Ingrese el 1 número:  8\n",
      "Ingrese el 2 número:  78\n",
      "Ingrese el 3 número:  95\n",
      "Ingrese el 4 número:  8\n"
     ]
    }
   ],
   "source": [
    "# 2. Por cada número a introducir, solicitar ese número\n",
    "lista_numeros = list() # dict, set\n",
    "for item in range(1, cantidad+1):\n",
    "    x = int(input(f'Ingrese el {item} número: ')) \n",
    "    lista_numeros.append(x)\n",
    "    pass "
   ]
  },
  {
   "cell_type": "code",
   "execution_count": 4,
   "metadata": {},
   "outputs": [
    {
     "data": {
      "text/plain": [
       "[8, 78, 95, 8]"
      ]
     },
     "execution_count": 4,
     "metadata": {},
     "output_type": "execute_result"
    }
   ],
   "source": [
    "lista_numeros"
   ]
  },
  {
   "cell_type": "code",
   "execution_count": 8,
   "metadata": {},
   "outputs": [
    {
     "name": "stdout",
     "output_type": "stream",
     "text": [
      "47.25\n"
     ]
    }
   ],
   "source": [
    "# 3. Realizar la media aritmética de los numeros introducidos: ma = Suma de numeros / cantidad de numeros\n",
    "# forma 1\n",
    "suma_numeros = sum(lista_numeros)\n",
    "\n",
    "media_aritmetica = suma_numeros/cantidad\n",
    "print(media_aritmetica)"
   ]
  },
  {
   "cell_type": "code",
   "execution_count": 9,
   "metadata": {},
   "outputs": [
    {
     "name": "stdout",
     "output_type": "stream",
     "text": [
      "8\n",
      "86\n",
      "181\n",
      "189\n",
      "47.25\n"
     ]
    }
   ],
   "source": [
    "# forma 2\n",
    "suma_numeros = 0\n",
    "for item in lista_numeros:\n",
    "    suma_numeros += item\n",
    "    print(suma_numeros)\n",
    "\n",
    "media_aritmetica = suma_numeros/cantidad\n",
    "print(media_aritmetica)"
   ]
  },
  {
   "cell_type": "markdown",
   "metadata": {},
   "source": [
    "2. Escribir un programa que pida al usuario un número entero y muestre por pantalla un triángulo rectángulo como el de más abajo, de altura el número introducido.\n",
    "\n"
   ]
  },
  {
   "cell_type": "markdown",
   "metadata": {},
   "source": [
    "Para n = 4\n",
    "\n",
    "<code>#\n",
    "##\n",
    "###\n",
    "####</code>"
   ]
  },
  {
   "cell_type": "code",
   "execution_count": 12,
   "metadata": {},
   "outputs": [
    {
     "name": "stdout",
     "output_type": "stream",
     "text": [
      "####\n",
      "####\n",
      "####\n",
      "####\n"
     ]
    }
   ],
   "source": [
    "for _ in range(4):\n",
    "    print('####')"
   ]
  },
  {
   "cell_type": "code",
   "execution_count": 30,
   "metadata": {},
   "outputs": [
    {
     "data": {
      "text/plain": [
       "'###'"
      ]
     },
     "execution_count": 30,
     "metadata": {},
     "output_type": "execute_result"
    }
   ],
   "source": [
    "'#'*3"
   ]
  },
  {
   "cell_type": "code",
   "execution_count": 31,
   "metadata": {},
   "outputs": [
    {
     "name": "stdout",
     "output_type": "stream",
     "text": [
      "Ingrese la altura del triangulo:  4\n"
     ]
    },
    {
     "name": "stdout",
     "output_type": "stream",
     "text": [
      "#\n",
      "##\n",
      "###\n",
      "####\n"
     ]
    }
   ],
   "source": [
    "h = int(input('Ingrese la altura del triangulo: '))\n",
    "for f in range(h):\n",
    "    print('#'* (f+1))"
   ]
  },
  {
   "cell_type": "code",
   "execution_count": 33,
   "metadata": {},
   "outputs": [
    {
     "name": "stdout",
     "output_type": "stream",
     "text": [
      "Ingrese la altura del triangulo:  10\n",
      "#\n",
      "##\n",
      "###\n",
      "####\n",
      "#####\n",
      "######\n",
      "#######\n",
      "########\n",
      "#########\n",
      "##########\n"
     ]
    }
   ],
   "source": [
    "# camino dificl\n",
    "h = int(input('Ingrese la altura del triangulo: '))\n",
    "for f in range(1, h+1):\n",
    "    for c in range(f):\n",
    "        print('#', end='')\n",
    "    print() # salto de linea\n",
    "    pass"
   ]
  },
  {
   "cell_type": "code",
   "execution_count": 32,
   "metadata": {},
   "outputs": [
    {
     "name": "stdout",
     "output_type": "stream",
     "text": [
      "holahola2\n"
     ]
    }
   ],
   "source": [
    "print('hola', end='')\n",
    "print('hola2')"
   ]
  },
  {
   "cell_type": "markdown",
   "metadata": {},
   "source": [
    "<code>   #\n",
    "  ##\n",
    " ###\n",
    "####</code>"
   ]
  },
  {
   "cell_type": "code",
   "execution_count": 23,
   "metadata": {},
   "outputs": [
    {
     "data": {
      "text/plain": [
       "'  ##'"
      ]
     },
     "execution_count": 23,
     "metadata": {},
     "output_type": "execute_result"
    }
   ],
   "source": [
    "\" \"*2+ '#'*2"
   ]
  },
  {
   "cell_type": "code",
   "execution_count": 24,
   "metadata": {},
   "outputs": [
    {
     "name": "stdout",
     "output_type": "stream",
     "text": [
      "Ingrese la altura del triangulo:  4\n",
      "   #\n",
      "  ##\n",
      " ###\n",
      "####\n"
     ]
    }
   ],
   "source": [
    "h = int(input('Ingrese la altura del triangulo: '))\n",
    "for i in range(h):\n",
    "    f = i+1 # valor fila\n",
    "    print(' '*(h-f) +'#'* (f))"
   ]
  },
  {
   "cell_type": "code",
   "execution_count": null,
   "metadata": {},
   "outputs": [],
   "source": []
  },
  {
   "cell_type": "markdown",
   "metadata": {},
   "source": [
    "3. Escribir un programa que pida al usuario un número entero y muestre por pantalla si es un número primo o no.\n"
   ]
  },
  {
   "cell_type": "code",
   "execution_count": null,
   "metadata": {},
   "outputs": [],
   "source": [
    "# 1. Solicito numero\n",
    "# 2. Verifico si numero es primo o no lo es: Verdadero o Falso\n",
    "# 3. Indico si es primo o no lo es:"
   ]
  },
  {
   "cell_type": "code",
   "execution_count": 34,
   "metadata": {},
   "outputs": [
    {
     "name": "stdout",
     "output_type": "stream",
     "text": [
      "Ingrese un numero entero:  7\n"
     ]
    }
   ],
   "source": [
    "numero = int(input('Ingrese un numero entero: '))"
   ]
  },
  {
   "cell_type": "code",
   "execution_count": null,
   "metadata": {},
   "outputs": [],
   "source": [
    "# Número Primo -> Es aquel número que solo puede ser dividido entre 1 y el mismo numero\n",
    "# Numero primo -> Solo tiene 2 divisores"
   ]
  },
  {
   "cell_type": "code",
   "execution_count": 36,
   "metadata": {},
   "outputs": [
    {
     "data": {
      "text/plain": [
       "True"
      ]
     },
     "execution_count": 36,
     "metadata": {},
     "output_type": "execute_result"
    }
   ],
   "source": [
    "20 % 2 == 0 # Que 2 es un divisor de 20"
   ]
  },
  {
   "cell_type": "code",
   "execution_count": 38,
   "metadata": {},
   "outputs": [],
   "source": [
    "es_primo =True\n",
    "\n",
    "# Busco divisores en el rango de [2; numero-1]\n",
    "for num in range(2, numero):\n",
    "    if numero % num == 0:\n",
    "        es_primo=False\n",
    "        break # "
   ]
  },
  {
   "cell_type": "code",
   "execution_count": 40,
   "metadata": {},
   "outputs": [
    {
     "name": "stdout",
     "output_type": "stream",
     "text": [
      "El numero Es Primo\n"
     ]
    }
   ],
   "source": [
    "if es_primo:\n",
    "    print('El numero Es Primo')\n",
    "else:\n",
    "    print('El numero No es Primo')"
   ]
  },
  {
   "cell_type": "markdown",
   "metadata": {},
   "source": [
    "4. Dadas dos listas, debes generar una tercera con todos los elementos que se repitan en ellas, pero no debe repetirse ningún elemento en la nueva lista:\n",
    "\n"
   ]
  },
  {
   "cell_type": "code",
   "execution_count": null,
   "metadata": {},
   "outputs": [],
   "source": [
    "lista_1 = [\"h\",'o','l','a',' ', 'm','u','n','d','o']\n",
    "lista_2 = [\"h\",'o','l','a',' ', 'l','u','n','a']"
   ]
  },
  {
   "cell_type": "code",
   "execution_count": null,
   "metadata": {},
   "outputs": [],
   "source": []
  },
  {
   "cell_type": "markdown",
   "metadata": {},
   "source": [
    "\n",
    "5. Escribir un programa que pida al usuario un número entero y muestre por pantalla un triángulo rectángulo como el de más abajo.\n",
    "\n"
   ]
  },
  {
   "cell_type": "markdown",
   "metadata": {},
   "source": [
    "Para h = 5\n",
    "<code>\n",
    "1\n",
    "3 1\n",
    "5 3 1\n",
    "7 5 3 1\n",
    "9 7 5 3 1</code>"
   ]
  },
  {
   "cell_type": "code",
   "execution_count": 42,
   "metadata": {},
   "outputs": [
    {
     "name": "stdout",
     "output_type": "stream",
     "text": [
      "09-12-2016\n"
     ]
    }
   ],
   "source": [
    "print('09','12','2016', sep='-')"
   ]
  },
  {
   "cell_type": "code",
   "execution_count": null,
   "metadata": {},
   "outputs": [],
   "source": []
  }
 ],
 "metadata": {
  "kernelspec": {
   "display_name": "Python 3 (ipykernel)",
   "language": "python",
   "name": "python3"
  },
  "language_info": {
   "codemirror_mode": {
    "name": "ipython",
    "version": 3
   },
   "file_extension": ".py",
   "mimetype": "text/x-python",
   "name": "python",
   "nbconvert_exporter": "python",
   "pygments_lexer": "ipython3",
   "version": "3.10.13"
  }
 },
 "nbformat": 4,
 "nbformat_minor": 4
}
