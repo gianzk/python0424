{
 "cells": [
  {
   "cell_type": "markdown",
   "metadata": {
    "tags": []
   },
   "source": [
    "# Principales Librerias en Python\n",
    "----------------------------------------------------"
   ]
  },
  {
   "cell_type": "markdown",
   "metadata": {},
   "source": [
    "En esta sección conoceremos algunas librerias con las que cuenta python las cuales nos ayudarán en ciertas operaciones"
   ]
  },
  {
   "cell_type": "markdown",
   "metadata": {},
   "source": [
    "## 1. Libreria Random\n",
    "-----------------------------\n",
    "\n",
    "Este módulo contiene funciones para generar números aleatorios:\n",
    "\n",
    "Puede ver más ejemplos en el siguiente [link](https://www.geeksforgeeks.org/python-random-module/#:~:text=Python%20Random%20module%20is%20an,a%20list%20or%20string%2C%20etc.)"
   ]
  },
  {
   "cell_type": "code",
   "execution_count": 1,
   "metadata": {},
   "outputs": [
    {
     "name": "stdout",
     "output_type": "stream",
     "text": [
      "0.5929315569070625\n"
     ]
    }
   ],
   "source": [
    "import random\n",
    "\n",
    "# Flotante aleatorio >= 0 y < 1.0\n",
    "print(random.random())"
   ]
  },
  {
   "cell_type": "code",
   "execution_count": 3,
   "metadata": {},
   "outputs": [
    {
     "name": "stdout",
     "output_type": "stream",
     "text": [
      "5.47119434669788\n",
      "81\n"
     ]
    }
   ],
   "source": [
    "# Flotante aleatorio >= 1 y <10.0       \n",
    "print(random.uniform(1,10))\n",
    "\n",
    "# si quisieramos nros enteros en un rango de >=a y <=b\n",
    "print(random.randint(1,100))"
   ]
  },
  {
   "cell_type": "code",
   "execution_count": 4,
   "metadata": {},
   "outputs": [
    {
     "name": "stdout",
     "output_type": "stream",
     "text": [
      "x\n"
     ]
    }
   ],
   "source": [
    "# Selección de un elemento de conjunto de elementos\n",
    "lista_valores = [1,2,3,4, 'hola', 'x']\n",
    "\n",
    "print(random.choice(lista_valores))"
   ]
  },
  {
   "cell_type": "markdown",
   "metadata": {},
   "source": []
  },
  {
   "cell_type": "markdown",
   "metadata": {
    "tags": []
   },
   "source": [
    "## 2. Manipulación de Directorios\n",
    "---------------------------"
   ]
  },
  {
   "cell_type": "markdown",
   "metadata": {},
   "source": [
    "El módulo <code>os</code> nos permite tener un control sobre normbre de archivos y directorios del sistema operativo.\n"
   ]
  },
  {
   "cell_type": "code",
   "execution_count": 11,
   "metadata": {},
   "outputs": [],
   "source": [
    "import os       # Nos permite manipular el sistema operativo\n",
    "import shutil   # Nos permite copiar y mover archivos"
   ]
  },
  {
   "cell_type": "code",
   "execution_count": 3,
   "metadata": {},
   "outputs": [
    {
     "name": "stdout",
     "output_type": "stream",
     "text": [
      "/workspaces/python0424/PythonFundamentos-master/PythonFundamentos-master/Modulo4\n"
     ]
    }
   ],
   "source": [
    "# Ruta de Trabajo actual : Es aquella donde realizamos el trabajo actual\n",
    "\n",
    "print( os.getcwd() )"
   ]
  },
  {
   "cell_type": "markdown",
   "metadata": {},
   "source": [
    "### Rutas Absolutas y Rutas Relativas\n",
    "\n",
    "- Ruta Absoluta: Aquella que inicia desde el directorio raiz\n",
    "- Ruta Relativa: Hace referencia a la posición relativa del directorio de trabajo actual\n"
   ]
  },
  {
   "cell_type": "markdown",
   "metadata": {},
   "source": [
    "<img src=\"./img/automating/relative_absolute_path.jpg\">"
   ]
  },
  {
   "cell_type": "code",
   "execution_count": 6,
   "metadata": {},
   "outputs": [
    {
     "data": {
      "text/plain": [
       "'/workspaces/python0424/PythonFundamentos-master/PythonFundamentos-master/Modulo4/img'"
      ]
     },
     "execution_count": 6,
     "metadata": {},
     "output_type": "execute_result"
    }
   ],
   "source": [
    "# obteniendo ruta absoluta de ruta\n",
    "os.path.abspath('./img')"
   ]
  },
  {
   "cell_type": "code",
   "execution_count": null,
   "metadata": {},
   "outputs": [],
   "source": [
    "# '.' referencia a directorio actual\n",
    "'./scripts'\n",
    "\n",
    "# '..' retrocedo una carpeta y busco la carpeta 'modulo2'\n",
    "'../modulo2'"
   ]
  },
  {
   "cell_type": "markdown",
   "metadata": {},
   "source": [
    "### Validando Existencia de Directorio o File"
   ]
  },
  {
   "cell_type": "code",
   "execution_count": 8,
   "metadata": {},
   "outputs": [
    {
     "name": "stdout",
     "output_type": "stream",
     "text": [
      "True\n",
      "True\n",
      "False\n",
      "False\n"
     ]
    }
   ],
   "source": [
    "# Validando existencia de directorio\n",
    "\n",
    "print( os.path.exists('C:\\\\Windows') )\n",
    "\n",
    "# Comprobando si ruta es directorio\n",
    "print( os.path.isdir('C:\\\\Windows\\\\System32') )\n",
    "\n",
    "print( os.path.isdir('./scripts') )\n",
    "\n",
    "# Comprobando si ruta es file\n",
    "print( os.path.isfile('./texto.txt'))"
   ]
  },
  {
   "cell_type": "markdown",
   "metadata": {},
   "source": [
    "### Otros Métodos de OS"
   ]
  },
  {
   "cell_type": "code",
   "execution_count": 9,
   "metadata": {},
   "outputs": [
    {
     "data": {
      "text/plain": [
       "['.ipynb_checkpoints',\n",
       " 'Ejercicio1.ipynb',\n",
       " 'Ejercicio2.ipynb',\n",
       " 'img',\n",
       " 'modulo',\n",
       " 'ProblemaBonus.ipynb',\n",
       " 'src',\n",
       " 'tabla-2.txt']"
      ]
     },
     "execution_count": 9,
     "metadata": {},
     "output_type": "execute_result"
    }
   ],
   "source": [
    "# Lista elementos del directorio\n",
    "os.listdir('./Ejercicios')\n",
    "\n",
    "# print(os.listdir())"
   ]
  },
  {
   "cell_type": "code",
   "execution_count": 11,
   "metadata": {},
   "outputs": [
    {
     "name": "stdout",
     "output_type": "stream",
     "text": [
      "C:\\Users\\Gonzalo\\Desktop\\PythonFundamentos\\Modulo4\\scripts\\2.demos_files\n"
     ]
    }
   ],
   "source": [
    "# chdir -> cambiar la posición sobre la que se encuentra python\n",
    "os.chdir('./scripts/2.demos_files')\n",
    "\n",
    "print(os.getcwd())"
   ]
  },
  {
   "cell_type": "markdown",
   "metadata": {
    "tags": []
   },
   "source": [
    "### Métodos de Copiado de Archivos (shutil)"
   ]
  },
  {
   "cell_type": "code",
   "execution_count": 10,
   "metadata": {},
   "outputs": [],
   "source": [
    "if not os.path.isdir('./scripts'): \n",
    "    os.mkdir('./scripts') # mkdir -> crea una carpeta en una ruta dada\n",
    "    os.mkdir('./scripts/2.demos_files')\n",
    "    "
   ]
  },
  {
   "cell_type": "code",
   "execution_count": null,
   "metadata": {},
   "outputs": [],
   "source": []
  },
  {
   "cell_type": "code",
   "execution_count": 15,
   "metadata": {},
   "outputs": [],
   "source": [
    "# Copiando archivos de un directorio a una carpeta\n",
    "try:\n",
    "    shutil.copy(r'./src/gato.jpg', r'./dts/cat_2.jpg')\n",
    "except Exception as e:\n",
    "    print(\"error\",e)\n",
    "# shutil.move()"
   ]
  },
  {
   "cell_type": "code",
   "execution_count": null,
   "metadata": {},
   "outputs": [],
   "source": [
    "os.listdir('./src')"
   ]
  },
  {
   "cell_type": "code",
   "execution_count": 16,
   "metadata": {},
   "outputs": [],
   "source": [
    "#reporte_clientes.xlsx\n",
    "\n",
    "#reporte_clientes_24_04.xlsx\n",
    "#import datetime\n",
    "#d=datetime.time\n",
    "for file in os.listdir('./src'):\n",
    "    # valido que sea archivo y termine en extensión .txt\n",
    "    if os.path.isfile(f'./src/{file}') and file.endswith('.txt'):\n",
    "        file_name, ext = file.split('.')\n",
    "        shutil.copy(f'./src/{file}', f'./dts/{file_name}_copy.{ext}')\n",
    "    "
   ]
  },
  {
   "cell_type": "code",
   "execution_count": null,
   "metadata": {},
   "outputs": [],
   "source": []
  },
  {
   "cell_type": "code",
   "execution_count": null,
   "metadata": {},
   "outputs": [],
   "source": []
  },
  {
   "cell_type": "markdown",
   "metadata": {},
   "source": [
    "## 3. Manipulando Elementos Web\n",
    "----------------------\n",
    "\n",
    "**Requests es una librería Python que facilita enormemente el trabajo con peticiones HTTP**. Antes o después, en algún proyecto, es posible que tengas que hacer peticiones web, ya sea para consumir un API, extraer información de una página o enviar el contenido de un formulario de manera automatizada. Si es así, Python requests es tu gran aliada."
   ]
  },
  {
   "cell_type": "markdown",
   "metadata": {},
   "source": [
    "<center>\n",
    "    <img src='./img/automating/web.png' width=\"500\" height=\"600\">\n",
    "</center>"
   ]
  },
  {
   "cell_type": "code",
   "execution_count": 17,
   "metadata": {},
   "outputs": [
    {
     "name": "stdout",
     "output_type": "stream",
     "text": [
      "Requirement already satisfied: requests in /home/codespace/.local/lib/python3.10/site-packages (2.31.0)\n",
      "Requirement already satisfied: charset-normalizer<4,>=2 in /home/codespace/.local/lib/python3.10/site-packages (from requests) (3.3.2)\n",
      "Requirement already satisfied: idna<4,>=2.5 in /home/codespace/.local/lib/python3.10/site-packages (from requests) (3.6)\n",
      "Requirement already satisfied: urllib3<3,>=1.21.1 in /usr/local/python/3.10.13/lib/python3.10/site-packages (from requests) (2.0.7)\n",
      "Requirement already satisfied: certifi>=2017.4.17 in /home/codespace/.local/lib/python3.10/site-packages (from requests) (2024.2.2)\n"
     ]
    }
   ],
   "source": [
    "# instalando libreria\n",
    "!pip install requests"
   ]
  },
  {
   "cell_type": "markdown",
   "metadata": {
    "jp-MarkdownHeadingCollapsed": true,
    "tags": []
   },
   "source": [
    "### 3.1 Web Scraping\n",
    "\n",
    "Conjunto de técnicas que permitirán la obtención de datos de una página web\n",
    "\n",
    "<img src='https://miro.medium.com/max/1200/1*kfOsUxggG5wDbDcxgC0Uwg.png'>"
   ]
  },
  {
   "cell_type": "code",
   "execution_count": 18,
   "metadata": {},
   "outputs": [
    {
     "name": "stdout",
     "output_type": "stream",
     "text": [
      "Collecting lxml\n",
      "  Downloading lxml-5.2.1-cp310-cp310-manylinux_2_28_x86_64.whl.metadata (3.4 kB)\n",
      "Downloading lxml-5.2.1-cp310-cp310-manylinux_2_28_x86_64.whl (5.0 MB)\n",
      "\u001b[2K   \u001b[90m━━━━━━━━━━━━━━━━━━━━━━━━━━━━━━━━━━━━━━━━\u001b[0m \u001b[32m5.0/5.0 MB\u001b[0m \u001b[31m47.3 MB/s\u001b[0m eta \u001b[36m0:00:00\u001b[0m:00:01\u001b[0m0:01\u001b[0m\n",
      "\u001b[?25hInstalling collected packages: lxml\n",
      "Successfully installed lxml-5.2.1\n"
     ]
    }
   ],
   "source": [
    "# libreria que permitirá la obtención de datos web\n",
    "!pip install lxml"
   ]
  },
  {
   "cell_type": "code",
   "execution_count": 19,
   "metadata": {},
   "outputs": [],
   "source": [
    "import requests # me sirve para conectarme al sitio web\n",
    "from lxml import html # para extraer texto o navegar por el arbol html"
   ]
  },
  {
   "cell_type": "code",
   "execution_count": 29,
   "metadata": {},
   "outputs": [
    {
     "name": "stdout",
     "output_type": "stream",
     "text": [
      "<Response [200]>\n",
      "<Element html at 0x7fbcd18ba480>\n",
      "\n",
      "\n",
      "English\n",
      "6,792,000+ articles\n",
      "\n",
      "\n",
      "\n",
      "\n",
      "EspaÃ±ol\n",
      "1.936.000+ artÃ­culos\n",
      "\n",
      "\n",
      "\n",
      "\n",
      "Ð ÑÑÑÐºÐ¸Ð¹\n",
      "1Â 967Â 000+ ÑÑÐ°ÑÐµÐ¹\n",
      "\n",
      "\n",
      "\n",
      "\n",
      "æ¥æ¬èª\n",
      "1,406,000+ è¨äº\n",
      "\n",
      "\n",
      "\n",
      "\n",
      "Deutsch\n",
      "2.888.000+ Artikel\n",
      "\n",
      "\n",
      "\n",
      "\n",
      "FranÃ§ais\n",
      "2â¯596â¯000+ articles\n",
      "\n",
      "\n",
      "\n",
      "\n",
      "Italiano\n",
      "1.851.000+ voci\n",
      "\n",
      "\n",
      "\n",
      "\n",
      "ä¸­æ\n",
      "1,407,000+ æ¡ç® / æ¢ç®\n",
      "\n",
      "\n",
      "\n",
      "\n",
      "ÙØ§Ø±Ø³Û\n",
      "Û¹Û¹Û´Ù¬Û°Û°Û°+ ÙÙØ§ÙÙ\n",
      "\n",
      "\n",
      "\n",
      "\n",
      "PortuguÃªs\n",
      "1.120.000+ artigos\n",
      "\n",
      "\n"
     ]
    }
   ],
   "source": [
    "url = 'https://www.wikipedia.org/'\n",
    "\n",
    "# REQUERIMIENTO AL SERVIDOR\n",
    "respuesta = requests.get(url)\n",
    "print(respuesta)\n",
    " # PARSEO DEL ARBOL HTML QUE RECIBO COMO RESPUESTA CON LXML\n",
    "parser = html.fromstring(respuesta.text)\n",
    "print(parser)\n",
    "# EXTRACCION DE TODOS LOS IDIOMAS POR CLASE\n",
    "idiomas = parser.find_class('central-featured-lang')\n",
    "\n",
    "for idioma in idiomas:\n",
    "    print(idioma.text_content())\n",
    "    #print(idioma.text_content()) "
   ]
  },
  {
   "cell_type": "markdown",
   "metadata": {
    "tags": []
   },
   "source": [
    "### 3.2 Introducción al uso de APIs\n",
    "\n",
    "- Muchos sitios web, generan sus propias APIs a manera de facilitar la comunicación con diversos sistemas de información\n",
    "- A diferencia del web scraping convencional, las APIs son mucho más faciles de utilizar\n",
    "- Comunmente se utilizá el formato JSON como formato de intercambio de datos\n",
    "\n",
    "\n",
    "\n",
    "<center>\n",
    "\n",
    "  <img src='https://encrypted-tbn0.gstatic.com/images?q=tbn:ANd9GcSwTt3CMQQ7JigO6qys2jwVBEToNZahbZL5AA&usqp=CAU' width=\"500\" height=\"600\">\n",
    "\n",
    "</center>"
   ]
  },
  {
   "cell_type": "markdown",
   "metadata": {},
   "source": [
    "#### Json\n",
    "    \n",
    "JSON (JavaScript Object Notation) es un formato ligero de intercambio de datos. JSON es de fácil lectura y escritura para los usuarios\n",
    "\n",
    "- Parecido a un diccionario\n",
    "\n",
    "\n",
    "<img src='https://addons.mozilla.org/user-media/previews/full/29/29967.png?modified=1622132517'>\n"
   ]
  },
  {
   "cell_type": "code",
   "execution_count": null,
   "metadata": {},
   "outputs": [],
   "source": [
    "# https://www.youtube.com/watch?v=u2Ms34GE14U&list=RDCMUCP15FVAA2UL-QOcGhy7-ezA&start_radio=1&rv=u2Ms34GE14U&t=31&ab_channel=EDteam\n",
    "# https://www.youtube.com/watch?v=QsrWtqnQGMc&ab_channel=WebReactivabyDani"
   ]
  },
  {
   "cell_type": "code",
   "execution_count": 30,
   "metadata": {},
   "outputs": [
    {
     "data": {
      "text/plain": [
       "{'compra': 3.694,\n",
       " 'venta': 3.701,\n",
       " 'origen': 'SUNAT',\n",
       " 'moneda': 'USD',\n",
       " 'fecha': '2024-04-24'}"
      ]
     },
     "execution_count": 30,
     "metadata": {},
     "output_type": "execute_result"
    }
   ],
   "source": [
    "import requests\n",
    "\n",
    "url = 'https://api.apis.net.pe/v1/tipo-cambio-sunat' #tipo cambio sunat\n",
    "\n",
    "# https://apis.net.pe/api-tipo-cambio.html\n",
    "\n",
    "# 1. conectarme al sitio\n",
    "response = requests.get(url)\n",
    "\n",
    "response.json() # nos brinda la información en formato JSON"
   ]
  },
  {
   "cell_type": "code",
   "execution_count": 31,
   "metadata": {},
   "outputs": [
    {
     "name": "stdout",
     "output_type": "stream",
     "text": [
      "36.94\n",
      "37.01\n"
     ]
    }
   ],
   "source": [
    "# 2. Recupero la informacion como json\n",
    "data = response.json()\n",
    "\n",
    "# obteniendo tipo cambio\n",
    "\n",
    "# 3. Recupero valor tipo cambio - compra - venta\n",
    "dolar_compra = data['compra']\n",
    "dolar_venta = data['venta']\n",
    "\n",
    "print(dolar_compra * 10) # costo compra dolar\n",
    "print(dolar_venta * 10) # costo venta dolar"
   ]
  },
  {
   "cell_type": "markdown",
   "metadata": {},
   "source": [
    "#### Ejercicio:\n",
    "\n",
    "Utilice el siguiente API para obtener del clima para obtener los valores de temperatura en grados C y F, asi como los valores de temperatura y precipitación en la ciudad e lima.\n",
    "\n",
    "url = https://weatherdbi.herokuapp.com/data/weather/lima\n"
   ]
  },
  {
   "cell_type": "code",
   "execution_count": null,
   "metadata": {},
   "outputs": [],
   "source": [
    "# Obtener los datos de tipo de cambio de todo Enero 2023 https://apis.net.pe/api-tipo-cambio.html\n",
    "\n",
    "# Imprimir la información por fecha"
   ]
  },
  {
   "cell_type": "code",
   "execution_count": 33,
   "metadata": {},
   "outputs": [
    {
     "data": {
      "text/plain": [
       "[{'compra': 3.808,\n",
       "  'venta': 3.82,\n",
       "  'origen': 'SUNAT',\n",
       "  'moneda': 'USD',\n",
       "  'fecha': '2023-01-01'},\n",
       " {'compra': 3.808,\n",
       "  'venta': 3.82,\n",
       "  'origen': 'SUNAT',\n",
       "  'moneda': 'USD',\n",
       "  'fecha': '2023-01-02'},\n",
       " {'compra': 3.808,\n",
       "  'venta': 3.82,\n",
       "  'origen': 'SUNAT',\n",
       "  'moneda': 'USD',\n",
       "  'fecha': '2023-01-03'},\n",
       " {'compra': 3.812,\n",
       "  'venta': 3.823,\n",
       "  'origen': 'SUNAT',\n",
       "  'moneda': 'USD',\n",
       "  'fecha': '2023-01-04'},\n",
       " {'compra': 3.822,\n",
       "  'venta': 3.827,\n",
       "  'origen': 'SUNAT',\n",
       "  'moneda': 'USD',\n",
       "  'fecha': '2023-01-05'},\n",
       " {'compra': 3.824,\n",
       "  'venta': 3.83,\n",
       "  'origen': 'SUNAT',\n",
       "  'moneda': 'USD',\n",
       "  'fecha': '2023-01-06'},\n",
       " {'compra': 3.8,\n",
       "  'venta': 3.806,\n",
       "  'origen': 'SUNAT',\n",
       "  'moneda': 'USD',\n",
       "  'fecha': '2023-01-07'},\n",
       " {'compra': 3.8,\n",
       "  'venta': 3.806,\n",
       "  'origen': 'SUNAT',\n",
       "  'moneda': 'USD',\n",
       "  'fecha': '2023-01-08'},\n",
       " {'compra': 3.8,\n",
       "  'venta': 3.806,\n",
       "  'origen': 'SUNAT',\n",
       "  'moneda': 'USD',\n",
       "  'fecha': '2023-01-09'},\n",
       " {'compra': 3.792,\n",
       "  'venta': 3.803,\n",
       "  'origen': 'SUNAT',\n",
       "  'moneda': 'USD',\n",
       "  'fecha': '2023-01-10'},\n",
       " {'compra': 3.802,\n",
       "  'venta': 3.806,\n",
       "  'origen': 'SUNAT',\n",
       "  'moneda': 'USD',\n",
       "  'fecha': '2023-01-11'},\n",
       " {'compra': 3.782,\n",
       "  'venta': 3.783,\n",
       "  'origen': 'SUNAT',\n",
       "  'moneda': 'USD',\n",
       "  'fecha': '2023-01-12'},\n",
       " {'compra': 3.779,\n",
       "  'venta': 3.784,\n",
       "  'origen': 'SUNAT',\n",
       "  'moneda': 'USD',\n",
       "  'fecha': '2023-01-13'},\n",
       " {'compra': 3.802,\n",
       "  'venta': 3.806,\n",
       "  'origen': 'SUNAT',\n",
       "  'moneda': 'USD',\n",
       "  'fecha': '2023-01-14'},\n",
       " {'compra': 3.802,\n",
       "  'venta': 3.806,\n",
       "  'origen': 'SUNAT',\n",
       "  'moneda': 'USD',\n",
       "  'fecha': '2023-01-15'},\n",
       " {'compra': 3.802,\n",
       "  'venta': 3.806,\n",
       "  'origen': 'SUNAT',\n",
       "  'moneda': 'USD',\n",
       "  'fecha': '2023-01-16'},\n",
       " {'compra': 3.815,\n",
       "  'venta': 3.822,\n",
       "  'origen': 'SUNAT',\n",
       "  'moneda': 'USD',\n",
       "  'fecha': '2023-01-17'},\n",
       " {'compra': 3.837,\n",
       "  'venta': 3.842,\n",
       "  'origen': 'SUNAT',\n",
       "  'moneda': 'USD',\n",
       "  'fecha': '2023-01-18'},\n",
       " {'compra': 3.829,\n",
       "  'venta': 3.836,\n",
       "  'origen': 'SUNAT',\n",
       "  'moneda': 'USD',\n",
       "  'fecha': '2023-01-19'},\n",
       " {'compra': 3.857,\n",
       "  'venta': 3.861,\n",
       "  'origen': 'SUNAT',\n",
       "  'moneda': 'USD',\n",
       "  'fecha': '2023-01-20'},\n",
       " {'compra': 3.852,\n",
       "  'venta': 3.859,\n",
       "  'origen': 'SUNAT',\n",
       "  'moneda': 'USD',\n",
       "  'fecha': '2023-01-21'},\n",
       " {'compra': 3.852,\n",
       "  'venta': 3.859,\n",
       "  'origen': 'SUNAT',\n",
       "  'moneda': 'USD',\n",
       "  'fecha': '2023-01-22'},\n",
       " {'compra': 3.852,\n",
       "  'venta': 3.859,\n",
       "  'origen': 'SUNAT',\n",
       "  'moneda': 'USD',\n",
       "  'fecha': '2023-01-23'},\n",
       " {'compra': 3.866,\n",
       "  'venta': 3.873,\n",
       "  'origen': 'SUNAT',\n",
       "  'moneda': 'USD',\n",
       "  'fecha': '2023-01-24'},\n",
       " {'compra': 3.88,\n",
       "  'venta': 3.885,\n",
       "  'origen': 'SUNAT',\n",
       "  'moneda': 'USD',\n",
       "  'fecha': '2023-01-25'},\n",
       " {'compra': 3.892,\n",
       "  'venta': 3.9,\n",
       "  'origen': 'SUNAT',\n",
       "  'moneda': 'USD',\n",
       "  'fecha': '2023-01-26'},\n",
       " {'compra': 3.861,\n",
       "  'venta': 3.867,\n",
       "  'origen': 'SUNAT',\n",
       "  'moneda': 'USD',\n",
       "  'fecha': '2023-01-27'},\n",
       " {'compra': 3.824,\n",
       "  'venta': 3.829,\n",
       "  'origen': 'SUNAT',\n",
       "  'moneda': 'USD',\n",
       "  'fecha': '2023-01-28'},\n",
       " {'compra': 3.824,\n",
       "  'venta': 3.829,\n",
       "  'origen': 'SUNAT',\n",
       "  'moneda': 'USD',\n",
       "  'fecha': '2023-01-29'},\n",
       " {'compra': 3.824,\n",
       "  'venta': 3.829,\n",
       "  'origen': 'SUNAT',\n",
       "  'moneda': 'USD',\n",
       "  'fecha': '2023-01-30'},\n",
       " {'compra': 3.853,\n",
       "  'venta': 3.859,\n",
       "  'origen': 'SUNAT',\n",
       "  'moneda': 'USD',\n",
       "  'fecha': '2023-01-31'}]"
      ]
     },
     "execution_count": 33,
     "metadata": {},
     "output_type": "execute_result"
    }
   ],
   "source": [
    "import requests\n",
    "\n",
    "url = 'https://api.apis.net.pe/v1/tipo-cambio-sunat?month=1&year=2023'\n",
    "\n",
    "response = requests.get(url)\n",
    "\n",
    "if response.status_code == 200:\n",
    "    # todo ok\n",
    "    data = response.json()\n",
    "data"
   ]
  },
  {
   "cell_type": "code",
   "execution_count": 23,
   "metadata": {},
   "outputs": [
    {
     "data": {
      "text/plain": [
       "list"
      ]
     },
     "execution_count": 23,
     "metadata": {},
     "output_type": "execute_result"
    }
   ],
   "source": [
    "type(data)"
   ]
  },
  {
   "cell_type": "code",
   "execution_count": 26,
   "metadata": {},
   "outputs": [
    {
     "name": "stdout",
     "output_type": "stream",
     "text": [
      "----- Fecha:2023-01-01 ------\n",
      "Venta: 3.82\n",
      "Compra: 3.808\n",
      "----- Fecha:2023-01-02 ------\n",
      "Venta: 3.82\n",
      "Compra: 3.808\n",
      "----- Fecha:2023-01-03 ------\n",
      "Venta: 3.82\n",
      "Compra: 3.808\n",
      "----- Fecha:2023-01-04 ------\n",
      "Venta: 3.823\n",
      "Compra: 3.812\n",
      "----- Fecha:2023-01-05 ------\n",
      "Venta: 3.827\n",
      "Compra: 3.822\n",
      "----- Fecha:2023-01-06 ------\n",
      "Venta: 3.83\n",
      "Compra: 3.824\n",
      "----- Fecha:2023-01-07 ------\n",
      "Venta: 3.806\n",
      "Compra: 3.8\n",
      "----- Fecha:2023-01-08 ------\n",
      "Venta: 3.806\n",
      "Compra: 3.8\n",
      "----- Fecha:2023-01-09 ------\n",
      "Venta: 3.806\n",
      "Compra: 3.8\n",
      "----- Fecha:2023-01-10 ------\n",
      "Venta: 3.803\n",
      "Compra: 3.792\n",
      "----- Fecha:2023-01-11 ------\n",
      "Venta: 3.806\n",
      "Compra: 3.802\n",
      "----- Fecha:2023-01-12 ------\n",
      "Venta: 3.783\n",
      "Compra: 3.782\n",
      "----- Fecha:2023-01-13 ------\n",
      "Venta: 3.784\n",
      "Compra: 3.779\n",
      "----- Fecha:2023-01-14 ------\n",
      "Venta: 3.806\n",
      "Compra: 3.802\n",
      "----- Fecha:2023-01-15 ------\n",
      "Venta: 3.806\n",
      "Compra: 3.802\n",
      "----- Fecha:2023-01-16 ------\n",
      "Venta: 3.806\n",
      "Compra: 3.802\n",
      "----- Fecha:2023-01-17 ------\n",
      "Venta: 3.822\n",
      "Compra: 3.815\n",
      "----- Fecha:2023-01-18 ------\n",
      "Venta: 3.842\n",
      "Compra: 3.837\n",
      "----- Fecha:2023-01-19 ------\n",
      "Venta: 3.836\n",
      "Compra: 3.829\n",
      "----- Fecha:2023-01-20 ------\n",
      "Venta: 3.861\n",
      "Compra: 3.857\n",
      "----- Fecha:2023-01-21 ------\n",
      "Venta: 3.859\n",
      "Compra: 3.852\n",
      "----- Fecha:2023-01-22 ------\n",
      "Venta: 3.859\n",
      "Compra: 3.852\n",
      "----- Fecha:2023-01-23 ------\n",
      "Venta: 3.859\n",
      "Compra: 3.852\n",
      "----- Fecha:2023-01-24 ------\n",
      "Venta: 3.873\n",
      "Compra: 3.866\n",
      "----- Fecha:2023-01-25 ------\n",
      "Venta: 3.885\n",
      "Compra: 3.88\n",
      "----- Fecha:2023-01-26 ------\n",
      "Venta: 3.9\n",
      "Compra: 3.892\n",
      "----- Fecha:2023-01-27 ------\n",
      "Venta: 3.867\n",
      "Compra: 3.861\n",
      "----- Fecha:2023-01-28 ------\n",
      "Venta: 3.829\n",
      "Compra: 3.824\n",
      "----- Fecha:2023-01-29 ------\n",
      "Venta: 3.829\n",
      "Compra: 3.824\n",
      "----- Fecha:2023-01-30 ------\n",
      "Venta: 3.829\n",
      "Compra: 3.824\n",
      "----- Fecha:2023-01-31 ------\n",
      "Venta: 3.859\n",
      "Compra: 3.853\n"
     ]
    }
   ],
   "source": [
    "for d in data:\n",
    "    \n",
    "    fecha = d['fecha']\n",
    "    \n",
    "    venta = d['venta']\n",
    "    compra = d['compra']\n",
    "    \n",
    "    print(f'----- Fecha:{fecha} ------')\n",
    "    \n",
    "    print(f'Venta: {venta}')\n",
    "    print(f'Compra: {compra}')\n",
    "    "
   ]
  },
  {
   "cell_type": "code",
   "execution_count": null,
   "metadata": {},
   "outputs": [],
   "source": []
  },
  {
   "cell_type": "markdown",
   "metadata": {},
   "source": [
    "#### 3.3 Descarga de Archivos Web\n",
    "\n",
    "Los archivos como imagenes o documentos publicados en sitios web es posible descargarlos mediante la libreria Requests"
   ]
  },
  {
   "cell_type": "code",
   "execution_count": 27,
   "metadata": {},
   "outputs": [],
   "source": [
    "# Ejemplo\n",
    "#-------------------\n",
    "\n",
    "\"\"\"\n",
    "Imaginemos que quisieramos obtener una imagen situada en el siguiente sitio web.\n",
    "\n",
    "https://es.wikipedia.org/wiki/Canis_familiaris\n",
    "\"\"\"\n",
    "import requests\n",
    "\n",
    "\n",
    "url = 'https://upload.wikimedia.org/wikipedia/commons/thumb/e/e3/Coat_types_3.jpg/250px-Coat_types_3.jpg'\n",
    "\n",
    "# url = 'https://www.sunat.gob.pe/descargaPRR/padron_reducido_local_anexo.zip'\n",
    "\n",
    "response = requests.get(url)\n",
    "\n",
    "with open('perritos.jpg', 'wb') as f:\n",
    "    f.write(response.content)\n",
    "    pass"
   ]
  },
  {
   "cell_type": "code",
   "execution_count": 29,
   "metadata": {},
   "outputs": [],
   "source": [
    "#  10. Ingrese a un sitio web y descargue una imagen o un archivo pdf.\n",
    "\n",
    "\n",
    "import requests\n",
    "url='https://upload.wikimedia.org/wikipedia/commons/thumb/0/03/Eiche_bei_Graditz.jpg/1280px-Eiche_bei_Graditz.jpg'\n",
    "response=requests.get(url)\n",
    "\n",
    "with open('arbol.jpg','wb') as f:\n",
    "    f.write(response.content)\n",
    "    pass\n"
   ]
  },
  {
   "cell_type": "code",
   "execution_count": null,
   "metadata": {},
   "outputs": [],
   "source": []
  }
 ],
 "metadata": {
  "interpreter": {
   "hash": "60ed20e32fccb190e74c562e5b1355c75b8bbe60ad6a5cbb503de8aaff5a83ef"
  },
  "kernelspec": {
   "display_name": "Python 3 (ipykernel)",
   "language": "python",
   "name": "python3"
  },
  "language_info": {
   "codemirror_mode": {
    "name": "ipython",
    "version": 3
   },
   "file_extension": ".py",
   "mimetype": "text/x-python",
   "name": "python",
   "nbconvert_exporter": "python",
   "pygments_lexer": "ipython3",
   "version": "3.10.13"
  }
 },
 "nbformat": 4,
 "nbformat_minor": 4
}
